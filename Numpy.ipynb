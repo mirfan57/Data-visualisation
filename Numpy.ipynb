{
 "cells": [
  {
   "cell_type": "code",
   "execution_count": 1,
   "id": "e762447e",
   "metadata": {},
   "outputs": [],
   "source": [
    "import numpy as np"
   ]
  },
  {
   "cell_type": "markdown",
   "id": "ca553a0e",
   "metadata": {},
   "source": [
    "Array and matrix are the 2 types of data-types majorly found in numpy. Matrices are also an array, they are subset of arrays."
   ]
  },
  {
   "cell_type": "code",
   "execution_count": 5,
   "id": "9731c362",
   "metadata": {},
   "outputs": [
    {
     "data": {
      "text/plain": [
       "array(['1', '2', '4', 'rinas', '(4+6j)'], dtype='<U64')"
      ]
     },
     "execution_count": 5,
     "metadata": {},
     "output_type": "execute_result"
    }
   ],
   "source": [
    "np.array([1,2,4,'rinas',4+6j])"
   ]
  },
  {
   "cell_type": "code",
   "execution_count": 6,
   "id": "b891473f",
   "metadata": {},
   "outputs": [
    {
     "data": {
      "text/plain": [
       "array([1. , 4. , 6. , 7.3, 9.2])"
      ]
     },
     "execution_count": 6,
     "metadata": {},
     "output_type": "execute_result"
    }
   ],
   "source": [
    "# 1-D array\n",
    "np.array([1,4,6,7.3,9.2])  "
   ]
  },
  {
   "cell_type": "code",
   "execution_count": 8,
   "id": "5d3e929b",
   "metadata": {},
   "outputs": [
    {
     "data": {
      "text/plain": [
       "array([[1, 3],\n",
       "       [5, 7]])"
      ]
     },
     "execution_count": 8,
     "metadata": {},
     "output_type": "execute_result"
    }
   ],
   "source": [
    "# 2-D array\n",
    "np.array([[1,3],[5,7]])\n",
    "# Imagine a 2-D co-ordinate system with co-ordinates --> (0,0) will have value 1, (0,1) have value 5, (1,0) has value 3 and (1,1) has value 7."
   ]
  },
  {
   "cell_type": "code",
   "execution_count": 14,
   "id": "48ce7a15",
   "metadata": {},
   "outputs": [
    {
     "data": {
      "text/plain": [
       "array([[1, 3],\n",
       "       [5, 7]])"
      ]
     },
     "execution_count": 14,
     "metadata": {},
     "output_type": "execute_result"
    }
   ],
   "source": [
    "# We can enclose our data in list or even tuple, both give same results.\n",
    "np.array([(1,3),(5,7)])"
   ]
  },
  {
   "cell_type": "code",
   "execution_count": 9,
   "id": "ddf9eb46",
   "metadata": {},
   "outputs": [
    {
     "name": "stderr",
     "output_type": "stream",
     "text": [
      "<ipython-input-9-8297f8c20156>:1: VisibleDeprecationWarning: Creating an ndarray from ragged nested sequences (which is a list-or-tuple of lists-or-tuples-or ndarrays with different lengths or shapes) is deprecated. If you meant to do this, you must specify 'dtype=object' when creating the ndarray.\n",
      "  np.array([[1,3],[5,7],[4,6,3]])\n"
     ]
    },
    {
     "data": {
      "text/plain": [
       "array([list([1, 3]), list([5, 7]), list([4, 6, 3])], dtype=object)"
      ]
     },
     "execution_count": 9,
     "metadata": {},
     "output_type": "execute_result"
    }
   ],
   "source": [
    "np.array([[1,3],[5,7],[4,6,3]])\n",
    "# since no. of elements is different, it holds each one as a list."
   ]
  },
  {
   "cell_type": "code",
   "execution_count": 10,
   "id": "cf1eec39",
   "metadata": {},
   "outputs": [
    {
     "data": {
      "text/plain": [
       "array([[[2, 4],\n",
       "        [6, 7]],\n",
       "\n",
       "       [[5, 3],\n",
       "        [9, 1]]])"
      ]
     },
     "execution_count": 10,
     "metadata": {},
     "output_type": "execute_result"
    }
   ],
   "source": [
    "# 3-D array\n",
    "np.array([[[2,4],[6,7]],[[5,3],[9,1]]])"
   ]
  },
  {
   "cell_type": "code",
   "execution_count": 12,
   "id": "e3806591",
   "metadata": {},
   "outputs": [
    {
     "data": {
      "text/plain": [
       "array([[[2, 4, 6]]])"
      ]
     },
     "execution_count": 12,
     "metadata": {},
     "output_type": "execute_result"
    }
   ],
   "source": [
    "# 3-D array\n",
    "np.array([2,4,6], ndmin = 3)"
   ]
  },
  {
   "cell_type": "code",
   "execution_count": 13,
   "id": "b28bd8d3",
   "metadata": {},
   "outputs": [
    {
     "data": {
      "text/plain": [
       "array([43.+0.j,  6.+0.j,  7.+0.j])"
      ]
     },
     "execution_count": 13,
     "metadata": {},
     "output_type": "execute_result"
    }
   ],
   "source": [
    "# Type casting of data-type\n",
    "np.array([43,6,7], dtype= complex)"
   ]
  },
  {
   "cell_type": "code",
   "execution_count": null,
   "id": "c386efa8",
   "metadata": {},
   "outputs": [],
   "source": [
    "In numpy, there are variations of integer data-type like 8-bit, 16-bit, 32-bit, 64-bit, etc.\n",
    "Inside an array, we can give different data-types to different elements inside the list."
   ]
  },
  {
   "cell_type": "code",
   "execution_count": 21,
   "id": "31cf2a9a",
   "metadata": {},
   "outputs": [],
   "source": [
    "# 'a' in dtype refers to first element in our list (3 & 4), while 'b' will refer to second element in the list (6 & 8).\n",
    "arr = np.array([(3,6),(4,8)], dtype = [('a','<i1'), ('b','<i8')])"
   ]
  },
  {
   "cell_type": "markdown",
   "id": "023127e3",
   "metadata": {},
   "source": [
    "i2 notation stands for int16 bit and i8 stands for int64 bits. i1 -- int8 bits, i4 -- int32 bits, i16 doesnot exists in numpy.\n",
    "- Default data type is int32 bit."
   ]
  },
  {
   "cell_type": "code",
   "execution_count": 22,
   "id": "bd59af75",
   "metadata": {},
   "outputs": [
    {
     "data": {
      "text/plain": [
       "3"
      ]
     },
     "execution_count": 22,
     "metadata": {},
     "output_type": "execute_result"
    }
   ],
   "source": [
    "arr[0][0]"
   ]
  },
  {
   "cell_type": "code",
   "execution_count": 23,
   "id": "76b31782",
   "metadata": {},
   "outputs": [
    {
     "data": {
      "text/plain": [
       "numpy.int8"
      ]
     },
     "execution_count": 23,
     "metadata": {},
     "output_type": "execute_result"
    }
   ],
   "source": [
    "type(arr[0][0])"
   ]
  },
  {
   "cell_type": "code",
   "execution_count": 24,
   "id": "a33843de",
   "metadata": {},
   "outputs": [
    {
     "data": {
      "text/plain": [
       "numpy.int64"
      ]
     },
     "execution_count": 24,
     "metadata": {},
     "output_type": "execute_result"
    }
   ],
   "source": [
    "type(arr[0][1])"
   ]
  },
  {
   "cell_type": "code",
   "execution_count": 30,
   "id": "aaac07cd",
   "metadata": {},
   "outputs": [],
   "source": [
    "matt = np.mat(arr)"
   ]
  },
  {
   "cell_type": "code",
   "execution_count": 31,
   "id": "afc11d37",
   "metadata": {},
   "outputs": [
    {
     "data": {
      "text/plain": [
       "matrix([[(3, 6), (4, 8)]], dtype=[('a', 'i1'), ('b', '<i8')])"
      ]
     },
     "execution_count": 31,
     "metadata": {},
     "output_type": "execute_result"
    }
   ],
   "source": [
    "matt"
   ]
  },
  {
   "cell_type": "code",
   "execution_count": 26,
   "id": "3390121c",
   "metadata": {},
   "outputs": [],
   "source": [
    "l = [34,7,4,3,6,8,2]"
   ]
  },
  {
   "cell_type": "code",
   "execution_count": 27,
   "id": "0e7abecf",
   "metadata": {},
   "outputs": [
    {
     "data": {
      "text/plain": [
       "array([34,  7,  4,  3,  6,  8,  2])"
      ]
     },
     "execution_count": 27,
     "metadata": {},
     "output_type": "execute_result"
    }
   ],
   "source": [
    "np.array(l)"
   ]
  },
  {
   "cell_type": "code",
   "execution_count": 28,
   "id": "e44d851e",
   "metadata": {},
   "outputs": [
    {
     "data": {
      "text/plain": [
       "array([34,  7,  4,  3,  6,  8,  2])"
      ]
     },
     "execution_count": 28,
     "metadata": {},
     "output_type": "execute_result"
    }
   ],
   "source": [
    "np.asarray(l)"
   ]
  },
  {
   "cell_type": "code",
   "execution_count": 29,
   "id": "abbd7ac3",
   "metadata": {},
   "outputs": [
    {
     "data": {
      "text/plain": [
       "array([34,  7,  4,  3,  6,  8,  2])"
      ]
     },
     "execution_count": 29,
     "metadata": {},
     "output_type": "execute_result"
    }
   ],
   "source": [
    "np.asanyarray(l)"
   ]
  },
  {
   "cell_type": "markdown",
   "id": "b84534db",
   "metadata": {},
   "source": [
    "#### Matrices are also an array, they are subset of arrays"
   ]
  },
  {
   "cell_type": "code",
   "execution_count": null,
   "id": "9cf240bb",
   "metadata": {},
   "outputs": [],
   "source": [
    "asanyarray() will not convert matrix into array, as matrix is also a sub-class of array."
   ]
  },
  {
   "cell_type": "code",
   "execution_count": 32,
   "id": "04c780c7",
   "metadata": {},
   "outputs": [
    {
     "data": {
      "text/plain": [
       "matrix([[(3, 6), (4, 8)]], dtype=[('a', 'i1'), ('b', '<i8')])"
      ]
     },
     "execution_count": 32,
     "metadata": {},
     "output_type": "execute_result"
    }
   ],
   "source": [
    "np.asanyarray(matt)"
   ]
  },
  {
   "cell_type": "code",
   "execution_count": 33,
   "id": "801279e7",
   "metadata": {},
   "outputs": [
    {
     "data": {
      "text/plain": [
       "array([[(3, 6), (4, 8)]], dtype=[('a', 'i1'), ('b', '<i8')])"
      ]
     },
     "execution_count": 33,
     "metadata": {},
     "output_type": "execute_result"
    }
   ],
   "source": [
    "np.array(matt)"
   ]
  },
  {
   "cell_type": "code",
   "execution_count": 35,
   "id": "c677f590",
   "metadata": {},
   "outputs": [
    {
     "data": {
      "text/plain": [
       "True"
      ]
     },
     "execution_count": 35,
     "metadata": {},
     "output_type": "execute_result"
    }
   ],
   "source": [
    "# Check whether matrixes are sub-class of ndarray or not.\n",
    "issubclass(np.matrix, np.ndarray)"
   ]
  },
  {
   "cell_type": "markdown",
   "id": "e643be84",
   "metadata": {},
   "source": [
    "#### ndarray stands for n-dimensional array."
   ]
  },
  {
   "cell_type": "code",
   "execution_count": 36,
   "id": "f9925a69",
   "metadata": {},
   "outputs": [
    {
     "data": {
      "text/plain": [
       "False"
      ]
     },
     "execution_count": 36,
     "metadata": {},
     "output_type": "execute_result"
    }
   ],
   "source": [
    "# Check whether ndarray is sub-class of matrices.\n",
    "issubclass(np.ndarray, np.matrix)"
   ]
  },
  {
   "cell_type": "markdown",
   "id": "bbe8780d",
   "metadata": {},
   "source": [
    "#### np.copy(): Copies all the data of the array at a new location."
   ]
  },
  {
   "cell_type": "code",
   "execution_count": 37,
   "id": "4f009069",
   "metadata": {},
   "outputs": [],
   "source": [
    "arr = np.array([(3,6),(7,1)])"
   ]
  },
  {
   "cell_type": "markdown",
   "id": "479aa109",
   "metadata": {},
   "source": [
    "#### Shallow Copy"
   ]
  },
  {
   "cell_type": "code",
   "execution_count": 38,
   "id": "8b5fd91e",
   "metadata": {},
   "outputs": [],
   "source": [
    "a = arr"
   ]
  },
  {
   "cell_type": "markdown",
   "id": "e16dbd50",
   "metadata": {},
   "source": [
    "#### Deep Copy"
   ]
  },
  {
   "cell_type": "code",
   "execution_count": 39,
   "id": "cfac5010",
   "metadata": {},
   "outputs": [],
   "source": [
    "# b is pointing to the new location where all the arr data is copied.\n",
    "b = np.copy(arr)"
   ]
  },
  {
   "cell_type": "code",
   "execution_count": 40,
   "id": "aa55cdc2",
   "metadata": {},
   "outputs": [],
   "source": [
    "# Change value of array at 0,0 location.\n",
    "arr[0][0] = 44"
   ]
  },
  {
   "cell_type": "markdown",
   "id": "d3b2d903",
   "metadata": {},
   "source": [
    "#### Arrays are mutable. We can change any data at a particular index."
   ]
  },
  {
   "cell_type": "code",
   "execution_count": 41,
   "id": "dc409126",
   "metadata": {},
   "outputs": [
    {
     "data": {
      "text/plain": [
       "array([[44,  6],\n",
       "       [ 7,  1]])"
      ]
     },
     "execution_count": 41,
     "metadata": {},
     "output_type": "execute_result"
    }
   ],
   "source": [
    "arr"
   ]
  },
  {
   "cell_type": "code",
   "execution_count": 42,
   "id": "d6df7fe5",
   "metadata": {},
   "outputs": [
    {
     "data": {
      "text/plain": [
       "array([[44,  6],\n",
       "       [ 7,  1]])"
      ]
     },
     "execution_count": 42,
     "metadata": {},
     "output_type": "execute_result"
    }
   ],
   "source": [
    "# a will have reassigned value\n",
    "a"
   ]
  },
  {
   "cell_type": "code",
   "execution_count": 43,
   "id": "818fe9a8",
   "metadata": {},
   "outputs": [
    {
     "data": {
      "text/plain": [
       "array([[3, 6],\n",
       "       [7, 1]])"
      ]
     },
     "execution_count": 43,
     "metadata": {},
     "output_type": "execute_result"
    }
   ],
   "source": [
    "# b will hold old data. It will not reflect any subsequent changes that you make in original data after np.copy() operation.\n",
    "b"
   ]
  },
  {
   "cell_type": "markdown",
   "id": "d949feea",
   "metadata": {},
   "source": [
    "Concepts of slicing and indexing applies on array elements as well."
   ]
  },
  {
   "cell_type": "code",
   "execution_count": 45,
   "id": "ada316f5",
   "metadata": {},
   "outputs": [
    {
     "data": {
      "text/plain": [
       "array([[44,  6],\n",
       "       [ 7,  1]])"
      ]
     },
     "execution_count": 45,
     "metadata": {},
     "output_type": "execute_result"
    }
   ],
   "source": [
    "arr[0:10]"
   ]
  },
  {
   "cell_type": "code",
   "execution_count": 46,
   "id": "fedb78e3",
   "metadata": {},
   "outputs": [
    {
     "data": {
      "text/plain": [
       "array([7, 1])"
      ]
     },
     "execution_count": 46,
     "metadata": {},
     "output_type": "execute_result"
    }
   ],
   "source": [
    "arr[-1]"
   ]
  },
  {
   "cell_type": "code",
   "execution_count": 47,
   "id": "975f7d87",
   "metadata": {},
   "outputs": [
    {
     "name": "stdout",
     "output_type": "stream",
     "text": [
      "[44  6]\n",
      "[7 1]\n"
     ]
    }
   ],
   "source": [
    "for i in arr:\n",
    "    print(i)"
   ]
  },
  {
   "cell_type": "code",
   "execution_count": 49,
   "id": "9015a134",
   "metadata": {},
   "outputs": [
    {
     "data": {
      "text/plain": [
       "array([[ True, False, False, False],\n",
       "       [False,  True, False, False],\n",
       "       [False, False,  True, False],\n",
       "       [False, False, False,  True]])"
      ]
     },
     "execution_count": 49,
     "metadata": {},
     "output_type": "execute_result"
    }
   ],
   "source": [
    "# (4,4) gives dimensions of array. This lambda function coompares the row(i) & column(j) indexes and writes corr. result. \n",
    "#Diagonal having indexes 00, 11, 22, 33 will only return true\n",
    "np.fromfunction(lambda i,j: i == j, (4,4))"
   ]
  },
  {
   "cell_type": "code",
   "execution_count": 52,
   "id": "b91e4ada",
   "metadata": {},
   "outputs": [
    {
     "data": {
      "text/plain": [
       "array([[0., 0., 0., 0.],\n",
       "       [0., 1., 2., 3.],\n",
       "       [0., 2., 4., 6.]])"
      ]
     },
     "execution_count": 52,
     "metadata": {},
     "output_type": "execute_result"
    }
   ],
   "source": [
    "#i represents row index and j represents column index.\n",
    "np.fromfunction(lambda i,j: i*j, (3,4))"
   ]
  },
  {
   "cell_type": "code",
   "execution_count": 53,
   "id": "0ab4d066",
   "metadata": {},
   "outputs": [
    {
     "name": "stderr",
     "output_type": "stream",
     "text": [
      "<ipython-input-53-0411cf0e7457>:1: RuntimeWarning: divide by zero encountered in true_divide\n",
      "  np.fromfunction(lambda i,j: i/j, (3,3))\n",
      "<ipython-input-53-0411cf0e7457>:1: RuntimeWarning: invalid value encountered in true_divide\n",
      "  np.fromfunction(lambda i,j: i/j, (3,3))\n"
     ]
    },
    {
     "data": {
      "text/plain": [
       "array([[nan, 0. , 0. ],\n",
       "       [inf, 1. , 0.5],\n",
       "       [inf, 2. , 1. ]])"
      ]
     },
     "execution_count": 53,
     "metadata": {},
     "output_type": "execute_result"
    }
   ],
   "source": [
    "np.fromfunction(lambda i,j: i/j, (3,3))"
   ]
  },
  {
   "cell_type": "markdown",
   "id": "697f757a",
   "metadata": {},
   "source": [
    "In other languages or core python, 1/0 will give exceptions(0 division error) but `inf` is a keyword that exists within numpy."
   ]
  },
  {
   "cell_type": "code",
   "execution_count": 64,
   "id": "f11b19d0",
   "metadata": {},
   "outputs": [],
   "source": [
    "gen = (i*i for i in range(5))"
   ]
  },
  {
   "cell_type": "code",
   "execution_count": 59,
   "id": "72ba7cb2",
   "metadata": {},
   "outputs": [
    {
     "data": {
      "text/plain": [
       "<generator object <genexpr> at 0x000001769A7F60B0>"
      ]
     },
     "execution_count": 59,
     "metadata": {},
     "output_type": "execute_result"
    }
   ],
   "source": [
    "gen"
   ]
  },
  {
   "cell_type": "code",
   "execution_count": 55,
   "id": "b05f182c",
   "metadata": {},
   "outputs": [
    {
     "data": {
      "text/plain": [
       "[0, 1, 4, 9, 16]"
      ]
     },
     "execution_count": 55,
     "metadata": {},
     "output_type": "execute_result"
    }
   ],
   "source": [
    "[i*i for i in range(5)]     # list comprehension"
   ]
  },
  {
   "cell_type": "code",
   "execution_count": 56,
   "id": "4575c1ce",
   "metadata": {},
   "outputs": [],
   "source": [
    "def test(v):\n",
    "    yield v"
   ]
  },
  {
   "cell_type": "code",
   "execution_count": 57,
   "id": "8cc3fab0",
   "metadata": {},
   "outputs": [
    {
     "data": {
      "text/plain": [
       "<generator object test at 0x000001769AA24740>"
      ]
     },
     "execution_count": 57,
     "metadata": {},
     "output_type": "execute_result"
    }
   ],
   "source": [
    "test(5)"
   ]
  },
  {
   "cell_type": "markdown",
   "id": "575ce4c8",
   "metadata": {},
   "source": [
    "yield is a special type of keyword in python which will help to create a function whose behaviour is like generator."
   ]
  },
  {
   "cell_type": "code",
   "execution_count": 60,
   "id": "6dc39921",
   "metadata": {},
   "outputs": [
    {
     "data": {
      "text/plain": [
       "array([ 0,  1,  4,  9, 16])"
      ]
     },
     "execution_count": 60,
     "metadata": {},
     "output_type": "execute_result"
    }
   ],
   "source": [
    "np.fromiter(gen, dtype=int)"
   ]
  },
  {
   "cell_type": "markdown",
   "id": "9341909b",
   "metadata": {},
   "source": [
    "As we have extracted the data from gen, the cursor is at last position. Now if we try to extract data we won't get it."
   ]
  },
  {
   "cell_type": "code",
   "execution_count": 61,
   "id": "d3830795",
   "metadata": {},
   "outputs": [
    {
     "data": {
      "text/plain": [
       "array([0, 1, 2, 3, 4])"
      ]
     },
     "execution_count": 61,
     "metadata": {},
     "output_type": "execute_result"
    }
   ],
   "source": [
    "np.fromiter(range(5), dtype = int)"
   ]
  },
  {
   "cell_type": "markdown",
   "id": "a27edbdc",
   "metadata": {},
   "source": [
    "##### Convert string data to n-dim array."
   ]
  },
  {
   "cell_type": "code",
   "execution_count": 67,
   "id": "fa70a9ba",
   "metadata": {},
   "outputs": [
    {
     "data": {
      "text/plain": [
       "array([3, 5, 7, 8, 9, 2])"
      ]
     },
     "execution_count": 67,
     "metadata": {},
     "output_type": "execute_result"
    }
   ],
   "source": [
    "np.fromstring('3,5,7,8,9,2', sep=',', dtype = int)"
   ]
  },
  {
   "cell_type": "code",
   "execution_count": 68,
   "id": "3077b332",
   "metadata": {},
   "outputs": [
    {
     "data": {
      "text/plain": [
       "array([  34.+0.j,   53.+0.j,  766.+0.j, 3532.+0.j])"
      ]
     },
     "execution_count": 68,
     "metadata": {},
     "output_type": "execute_result"
    }
   ],
   "source": [
    "np.fromstring('34 53 766 3532', sep=' ', dtype = complex)"
   ]
  },
  {
   "cell_type": "code",
   "execution_count": 69,
   "id": "044454d9",
   "metadata": {},
   "outputs": [],
   "source": [
    "arr1 = np.array([[2,4,5,7],[4,3,6,7],[2,3,9,4]])"
   ]
  },
  {
   "cell_type": "code",
   "execution_count": 70,
   "id": "d5a88797",
   "metadata": {},
   "outputs": [
    {
     "data": {
      "text/plain": [
       "2"
      ]
     },
     "execution_count": 70,
     "metadata": {},
     "output_type": "execute_result"
    }
   ],
   "source": [
    "# Dimensions of array\n",
    "arr1.ndim"
   ]
  },
  {
   "cell_type": "code",
   "execution_count": 71,
   "id": "694affc3",
   "metadata": {},
   "outputs": [
    {
     "data": {
      "text/plain": [
       "12"
      ]
     },
     "execution_count": 71,
     "metadata": {},
     "output_type": "execute_result"
    }
   ],
   "source": [
    "# Total no. of elements\n",
    "arr1.size"
   ]
  },
  {
   "cell_type": "code",
   "execution_count": 72,
   "id": "7beda851",
   "metadata": {},
   "outputs": [
    {
     "data": {
      "text/plain": [
       "(3, 4)"
      ]
     },
     "execution_count": 72,
     "metadata": {},
     "output_type": "execute_result"
    }
   ],
   "source": [
    "# Rows vs columns\n",
    "arr1.shape"
   ]
  },
  {
   "cell_type": "code",
   "execution_count": 73,
   "id": "3da53ed3",
   "metadata": {},
   "outputs": [],
   "source": [
    "arr2 = np.array([[[2,3,4,5],[5,6,7,8]],[[2,3,4,5],[5,6,7,8]]])"
   ]
  },
  {
   "cell_type": "code",
   "execution_count": 74,
   "id": "d9d1f805",
   "metadata": {},
   "outputs": [
    {
     "data": {
      "text/plain": [
       "array([[[2, 3, 4, 5],\n",
       "        [5, 6, 7, 8]],\n",
       "\n",
       "       [[2, 3, 4, 5],\n",
       "        [5, 6, 7, 8]]])"
      ]
     },
     "execution_count": 74,
     "metadata": {},
     "output_type": "execute_result"
    }
   ],
   "source": [
    "arr2"
   ]
  },
  {
   "cell_type": "code",
   "execution_count": 75,
   "id": "144690f5",
   "metadata": {},
   "outputs": [
    {
     "data": {
      "text/plain": [
       "(2, 2, 4)"
      ]
     },
     "execution_count": 75,
     "metadata": {},
     "output_type": "execute_result"
    }
   ],
   "source": [
    "# We have 2 number of 2 cross 4 data. Hence shape is (2,2,4)\n",
    "arr2.shape"
   ]
  },
  {
   "cell_type": "markdown",
   "id": "39746c8b",
   "metadata": {},
   "source": [
    "### 4-dimension array"
   ]
  },
  {
   "cell_type": "code",
   "execution_count": 77,
   "id": "af33fc4c",
   "metadata": {},
   "outputs": [],
   "source": [
    "arr3 = np.array([[[[2,3,4,5],[5,6,7,8]],[[2,3,4,5],[5,6,7,8]], \n",
    "                 [[2,3,4,5],[5,6,7,8]],[[2,3,4,5],[5,6,7,8]]]])"
   ]
  },
  {
   "cell_type": "code",
   "execution_count": 78,
   "id": "18ece71f",
   "metadata": {},
   "outputs": [
    {
     "data": {
      "text/plain": [
       "array([[[[2, 3, 4, 5],\n",
       "         [5, 6, 7, 8]],\n",
       "\n",
       "        [[2, 3, 4, 5],\n",
       "         [5, 6, 7, 8]],\n",
       "\n",
       "        [[2, 3, 4, 5],\n",
       "         [5, 6, 7, 8]],\n",
       "\n",
       "        [[2, 3, 4, 5],\n",
       "         [5, 6, 7, 8]]]])"
      ]
     },
     "execution_count": 78,
     "metadata": {},
     "output_type": "execute_result"
    }
   ],
   "source": [
    "arr3"
   ]
  },
  {
   "cell_type": "code",
   "execution_count": 79,
   "id": "6177d19a",
   "metadata": {},
   "outputs": [
    {
     "data": {
      "text/plain": [
       "4"
      ]
     },
     "execution_count": 79,
     "metadata": {},
     "output_type": "execute_result"
    }
   ],
   "source": [
    "arr3.ndim"
   ]
  },
  {
   "cell_type": "markdown",
   "id": "e4831fc8",
   "metadata": {},
   "source": [
    "Creation wise 4th dimension exists but visualisation wise it is difficult to visualise."
   ]
  },
  {
   "cell_type": "code",
   "execution_count": 80,
   "id": "7bcc5221",
   "metadata": {},
   "outputs": [
    {
     "data": {
      "text/plain": [
       "(1, 4, 2, 4)"
      ]
     },
     "execution_count": 80,
     "metadata": {},
     "output_type": "execute_result"
    }
   ],
   "source": [
    "arr3.shape"
   ]
  },
  {
   "cell_type": "code",
   "execution_count": null,
   "id": "5430848d",
   "metadata": {},
   "outputs": [],
   "source": [
    "we have 1 such object of 4 arrays of 2 cross 4 dimensions."
   ]
  },
  {
   "cell_type": "code",
   "execution_count": 81,
   "id": "a38db7b7",
   "metadata": {},
   "outputs": [
    {
     "ename": "TypeError",
     "evalue": "'float' object cannot be interpreted as an integer",
     "output_type": "error",
     "traceback": [
      "\u001b[1;31m---------------------------------------------------------------------------\u001b[0m",
      "\u001b[1;31mTypeError\u001b[0m                                 Traceback (most recent call last)",
      "\u001b[1;32m<ipython-input-81-c1f25c781196>\u001b[0m in \u001b[0;36m<module>\u001b[1;34m\u001b[0m\n\u001b[1;32m----> 1\u001b[1;33m \u001b[0mrange\u001b[0m\u001b[1;33m(\u001b[0m\u001b[1;36m6.6\u001b[0m\u001b[1;33m)\u001b[0m\u001b[1;33m\u001b[0m\u001b[1;33m\u001b[0m\u001b[0m\n\u001b[0m",
      "\u001b[1;31mTypeError\u001b[0m: 'float' object cannot be interpreted as an integer"
     ]
    }
   ],
   "source": [
    "range(6.6)"
   ]
  },
  {
   "cell_type": "markdown",
   "id": "24e0bbd3",
   "metadata": {},
   "source": [
    "#### arange function in numpy is equivalent to range function in nature but accepts floating point number as well."
   ]
  },
  {
   "cell_type": "code",
   "execution_count": 82,
   "id": "038a4756",
   "metadata": {
    "scrolled": true
   },
   "outputs": [
    {
     "data": {
      "text/plain": [
       "array([0., 1., 2., 3., 4., 5., 6.])"
      ]
     },
     "execution_count": 82,
     "metadata": {},
     "output_type": "execute_result"
    }
   ],
   "source": [
    "np.arange(6.6)"
   ]
  },
  {
   "cell_type": "code",
   "execution_count": 83,
   "id": "579499e0",
   "metadata": {},
   "outputs": [
    {
     "data": {
      "text/plain": [
       "array([6.4, 6.8, 7.2, 7.6, 8. , 8.4, 8.8, 9.2, 9.6])"
      ]
     },
     "execution_count": 83,
     "metadata": {},
     "output_type": "execute_result"
    }
   ],
   "source": [
    "# we can even give end point and step size in floating point. \n",
    "np.arange(6.4, 9.8, .4)"
   ]
  },
  {
   "cell_type": "code",
   "execution_count": 84,
   "id": "6cf62df0",
   "metadata": {},
   "outputs": [
    {
     "data": {
      "text/plain": [
       "array([7.3, 6.9, 6.5, 6.1, 5.7, 5.3, 4.9, 4.5, 4.1, 3.7])"
      ]
     },
     "execution_count": 84,
     "metadata": {},
     "output_type": "execute_result"
    }
   ],
   "source": [
    "np.arange(7.3, 3.5,-.4)"
   ]
  },
  {
   "cell_type": "markdown",
   "id": "b4848155",
   "metadata": {},
   "source": [
    "##### It includes upper bound as well for floating point numbers (not actually) but not for integers."
   ]
  },
  {
   "cell_type": "raw",
   "id": "e8d24cf5",
   "metadata": {},
   "source": [
    "The reason is step size = 0.3 can tend to have infinite zeroes after 3 and is not absolute.\n",
    "step size = 0.30000000000000000000000000001. So, it looks like it is including but actually mathematically it is not."
   ]
  },
  {
   "cell_type": "code",
   "execution_count": 85,
   "id": "cdde0a8a",
   "metadata": {},
   "outputs": [
    {
     "data": {
      "text/plain": [
       "array([1, 2, 3, 4, 5, 6, 7, 8])"
      ]
     },
     "execution_count": 85,
     "metadata": {},
     "output_type": "execute_result"
    }
   ],
   "source": [
    "np.arange(1,9)"
   ]
  },
  {
   "cell_type": "markdown",
   "id": "454061a3",
   "metadata": {},
   "source": [
    "#### linspace(): Returns evenly spaced numbers over the specified interval."
   ]
  },
  {
   "cell_type": "code",
   "execution_count": 86,
   "id": "1cc782a7",
   "metadata": {},
   "outputs": [
    {
     "data": {
      "text/plain": [
       "array([1.  , 1.25, 1.5 , 1.75, 2.  ])"
      ]
     },
     "execution_count": 86,
     "metadata": {},
     "output_type": "execute_result"
    }
   ],
   "source": [
    "# It generates data between 1 and 2 but at such intervals that total data is 5.\n",
    "np.linspace(1,2,5)"
   ]
  },
  {
   "cell_type": "code",
   "execution_count": null,
   "id": "9afcde3f",
   "metadata": {},
   "outputs": [],
   "source": [
    "# By default linspace gives us 50 number of datasets between any two numbers defined."
   ]
  },
  {
   "cell_type": "code",
   "execution_count": 95,
   "id": "593d9a5d",
   "metadata": {},
   "outputs": [
    {
     "data": {
      "text/plain": [
       "array([2. , 2.5, 3. , 3.5])"
      ]
     },
     "execution_count": 95,
     "metadata": {},
     "output_type": "execute_result"
    }
   ],
   "source": [
    "np.linspace(2,4,4,endpoint=False)"
   ]
  },
  {
   "cell_type": "code",
   "execution_count": 97,
   "id": "a1c2c4bb",
   "metadata": {},
   "outputs": [
    {
     "data": {
      "text/plain": [
       "array([2. , 2.5, 3. , 3.5])"
      ]
     },
     "execution_count": 97,
     "metadata": {},
     "output_type": "execute_result"
    }
   ],
   "source": [
    "np.linspace(2,4,4,endpoint=False, axis=0) # axis=1 is possible only for more than 1 dim array."
   ]
  },
  {
   "cell_type": "code",
   "execution_count": 100,
   "id": "e093f6d0",
   "metadata": {
    "scrolled": true
   },
   "outputs": [
    {
     "data": {
      "text/plain": [
       "array([[1.        , 1.33333333, 1.66666667, 2.        ],\n",
       "       [2.        , 2.66666667, 3.33333333, 4.        ]])"
      ]
     },
     "execution_count": 100,
     "metadata": {},
     "output_type": "execute_result"
    }
   ],
   "source": [
    "np.linspace([1,2],[2,4],4,endpoint=True, axis=1)"
   ]
  },
  {
   "cell_type": "code",
   "execution_count": 103,
   "id": "0644453c",
   "metadata": {},
   "outputs": [
    {
     "data": {
      "text/plain": [
       "array([[1. , 1.5, 2. , 2.5, 3. ],\n",
       "       [5. , 4.5, 4. , 3.5, 3. ]])"
      ]
     },
     "execution_count": 103,
     "metadata": {},
     "output_type": "execute_result"
    }
   ],
   "source": [
    "np.linspace([1,5],3,5,endpoint=True, axis=1)\n",
    "# 1 to 3 and 5 to 3 in 5 steps each."
   ]
  },
  {
   "cell_type": "code",
   "execution_count": 87,
   "id": "42df2186",
   "metadata": {},
   "outputs": [
    {
     "data": {
      "text/plain": [
       "array([0., 0., 0., 0., 0.])"
      ]
     },
     "execution_count": 87,
     "metadata": {},
     "output_type": "execute_result"
    }
   ],
   "source": [
    "np.zeros(5)"
   ]
  },
  {
   "cell_type": "code",
   "execution_count": 89,
   "id": "a5615de2",
   "metadata": {},
   "outputs": [
    {
     "data": {
      "text/plain": [
       "array([[[0., 0., 0., 0., 0.],\n",
       "        [0., 0., 0., 0., 0.],\n",
       "        [0., 0., 0., 0., 0.],\n",
       "        [0., 0., 0., 0., 0.]],\n",
       "\n",
       "       [[0., 0., 0., 0., 0.],\n",
       "        [0., 0., 0., 0., 0.],\n",
       "        [0., 0., 0., 0., 0.],\n",
       "        [0., 0., 0., 0., 0.]]])"
      ]
     },
     "execution_count": 89,
     "metadata": {},
     "output_type": "execute_result"
    }
   ],
   "source": [
    "np.zeros((2,4,5))   # 2 matrices of 4*5"
   ]
  },
  {
   "cell_type": "code",
   "execution_count": 90,
   "id": "c4d6f0a8",
   "metadata": {},
   "outputs": [
    {
     "data": {
      "text/plain": [
       "array([[[[0.],\n",
       "         [0.],\n",
       "         [0.]],\n",
       "\n",
       "        [[0.],\n",
       "         [0.],\n",
       "         [0.]],\n",
       "\n",
       "        [[0.],\n",
       "         [0.],\n",
       "         [0.]]],\n",
       "\n",
       "\n",
       "       [[[0.],\n",
       "         [0.],\n",
       "         [0.]],\n",
       "\n",
       "        [[0.],\n",
       "         [0.],\n",
       "         [0.]],\n",
       "\n",
       "        [[0.],\n",
       "         [0.],\n",
       "         [0.]]]])"
      ]
     },
     "execution_count": 90,
     "metadata": {},
     "output_type": "execute_result"
    }
   ],
   "source": [
    "np.zeros((2,3,3,1))"
   ]
  },
  {
   "cell_type": "code",
   "execution_count": 91,
   "id": "d2059183",
   "metadata": {},
   "outputs": [
    {
     "data": {
      "text/plain": [
       "array([[[1., 1.],\n",
       "        [1., 1.],\n",
       "        [1., 1.]],\n",
       "\n",
       "       [[1., 1.],\n",
       "        [1., 1.],\n",
       "        [1., 1.]]])"
      ]
     },
     "execution_count": 91,
     "metadata": {},
     "output_type": "execute_result"
    }
   ],
   "source": [
    "np.ones((2,3,2))"
   ]
  },
  {
   "cell_type": "code",
   "execution_count": 92,
   "id": "9d7ce567",
   "metadata": {},
   "outputs": [
    {
     "data": {
      "text/plain": [
       "array([[[7., 7.],\n",
       "        [7., 7.],\n",
       "        [7., 7.]],\n",
       "\n",
       "       [[7., 7.],\n",
       "        [7., 7.],\n",
       "        [7., 7.]]])"
      ]
     },
     "execution_count": 92,
     "metadata": {},
     "output_type": "execute_result"
    }
   ],
   "source": [
    "np.ones((2,3,2)) + 6"
   ]
  },
  {
   "cell_type": "code",
   "execution_count": 93,
   "id": "46f2ad26",
   "metadata": {},
   "outputs": [
    {
     "data": {
      "text/plain": [
       "array([[7., 7., 7., 7.],\n",
       "       [7., 7., 7., 7.],\n",
       "       [7., 7., 7., 7.]])"
      ]
     },
     "execution_count": 93,
     "metadata": {},
     "output_type": "execute_result"
    }
   ],
   "source": [
    "# Generates random data of given shape.\n",
    "np.empty((3,4))"
   ]
  },
  {
   "cell_type": "markdown",
   "id": "dcd3a7c0",
   "metadata": {},
   "source": [
    "#### np.eye(n) creates identity matrices of n*n."
   ]
  },
  {
   "cell_type": "code",
   "execution_count": 94,
   "id": "d43d6e39",
   "metadata": {},
   "outputs": [
    {
     "data": {
      "text/plain": [
       "array([[1., 0., 0., 0.],\n",
       "       [0., 1., 0., 0.],\n",
       "       [0., 0., 1., 0.],\n",
       "       [0., 0., 0., 1.]])"
      ]
     },
     "execution_count": 94,
     "metadata": {},
     "output_type": "execute_result"
    }
   ],
   "source": [
    "np.eye(4)"
   ]
  },
  {
   "cell_type": "markdown",
   "id": "3caaf11f",
   "metadata": {},
   "source": [
    "#### np.logspace(): Returns number spaced evenly on a log-scale."
   ]
  },
  {
   "cell_type": "code",
   "execution_count": 104,
   "id": "f157ac85",
   "metadata": {},
   "outputs": [
    {
     "data": {
      "text/plain": [
       "array([ 100.        ,  177.827941  ,  316.22776602,  562.34132519,\n",
       "       1000.        ])"
      ]
     },
     "execution_count": 104,
     "metadata": {},
     "output_type": "execute_result"
    }
   ],
   "source": [
    "np.logspace(2,3,5)"
   ]
  },
  {
   "cell_type": "code",
   "execution_count": 107,
   "id": "2eed573c",
   "metadata": {},
   "outputs": [],
   "source": [
    "# This is a 1-D data so transpose is not possible, but I want to change shape from \n",
    "d = np.linspace(2,4,30)"
   ]
  },
  {
   "cell_type": "code",
   "execution_count": 108,
   "id": "21ea13ec",
   "metadata": {
    "scrolled": true
   },
   "outputs": [
    {
     "data": {
      "text/plain": [
       "array([2.        , 2.06896552, 2.13793103, 2.20689655, 2.27586207,\n",
       "       2.34482759, 2.4137931 , 2.48275862, 2.55172414, 2.62068966,\n",
       "       2.68965517, 2.75862069, 2.82758621, 2.89655172, 2.96551724,\n",
       "       3.03448276, 3.10344828, 3.17241379, 3.24137931, 3.31034483,\n",
       "       3.37931034, 3.44827586, 3.51724138, 3.5862069 , 3.65517241,\n",
       "       3.72413793, 3.79310345, 3.86206897, 3.93103448, 4.        ])"
      ]
     },
     "execution_count": 108,
     "metadata": {},
     "output_type": "execute_result"
    }
   ],
   "source": [
    "d"
   ]
  },
  {
   "cell_type": "code",
   "execution_count": 109,
   "id": "871cde08",
   "metadata": {},
   "outputs": [
    {
     "data": {
      "text/plain": [
       "1"
      ]
     },
     "execution_count": 109,
     "metadata": {},
     "output_type": "execute_result"
    }
   ],
   "source": [
    "d.ndim"
   ]
  },
  {
   "cell_type": "code",
   "execution_count": 110,
   "id": "bee94df5",
   "metadata": {},
   "outputs": [
    {
     "data": {
      "text/plain": [
       "(30,)"
      ]
     },
     "execution_count": 110,
     "metadata": {},
     "output_type": "execute_result"
    }
   ],
   "source": [
    "d.shape"
   ]
  },
  {
   "cell_type": "markdown",
   "id": "3053f4bc",
   "metadata": {},
   "source": [
    "Let's change its shape from `1*30` to `30*1`"
   ]
  },
  {
   "cell_type": "code",
   "execution_count": 111,
   "id": "5c614ea1",
   "metadata": {},
   "outputs": [
    {
     "data": {
      "text/plain": [
       "array([[2.        ],\n",
       "       [2.06896552],\n",
       "       [2.13793103],\n",
       "       [2.20689655],\n",
       "       [2.27586207],\n",
       "       [2.34482759],\n",
       "       [2.4137931 ],\n",
       "       [2.48275862],\n",
       "       [2.55172414],\n",
       "       [2.62068966],\n",
       "       [2.68965517],\n",
       "       [2.75862069],\n",
       "       [2.82758621],\n",
       "       [2.89655172],\n",
       "       [2.96551724],\n",
       "       [3.03448276],\n",
       "       [3.10344828],\n",
       "       [3.17241379],\n",
       "       [3.24137931],\n",
       "       [3.31034483],\n",
       "       [3.37931034],\n",
       "       [3.44827586],\n",
       "       [3.51724138],\n",
       "       [3.5862069 ],\n",
       "       [3.65517241],\n",
       "       [3.72413793],\n",
       "       [3.79310345],\n",
       "       [3.86206897],\n",
       "       [3.93103448],\n",
       "       [4.        ]])"
      ]
     },
     "execution_count": 111,
     "metadata": {},
     "output_type": "execute_result"
    }
   ],
   "source": [
    "d.reshape(30,1)"
   ]
  },
  {
   "cell_type": "code",
   "execution_count": 112,
   "id": "d82335f0",
   "metadata": {},
   "outputs": [
    {
     "data": {
      "text/plain": [
       "array([[[2.        , 2.06896552, 2.13793103, 2.20689655, 2.27586207,\n",
       "         2.34482759, 2.4137931 , 2.48275862, 2.55172414, 2.62068966,\n",
       "         2.68965517, 2.75862069, 2.82758621, 2.89655172, 2.96551724],\n",
       "        [3.03448276, 3.10344828, 3.17241379, 3.24137931, 3.31034483,\n",
       "         3.37931034, 3.44827586, 3.51724138, 3.5862069 , 3.65517241,\n",
       "         3.72413793, 3.79310345, 3.86206897, 3.93103448, 4.        ]]])"
      ]
     },
     "execution_count": 112,
     "metadata": {},
     "output_type": "execute_result"
    }
   ],
   "source": [
    "#We can even reshape the data in 3-dimensions.\n",
    "d.reshape(1,2,15)  # make sure the dimension is satisfied to number of data."
   ]
  },
  {
   "cell_type": "code",
   "execution_count": 114,
   "id": "e1bfb4fa",
   "metadata": {},
   "outputs": [
    {
     "data": {
      "text/plain": [
       "array([0.19056882, 0.33352837, 0.2043469 ])"
      ]
     },
     "execution_count": 114,
     "metadata": {},
     "output_type": "execute_result"
    }
   ],
   "source": [
    "np.random.rand(3)   # distributes data based on uniform dist b/w 0 to 1."
   ]
  },
  {
   "cell_type": "code",
   "execution_count": 115,
   "id": "fa8ac21b",
   "metadata": {},
   "outputs": [
    {
     "data": {
      "text/plain": [
       "array([-0.86848993, -1.35304655, -1.68372347])"
      ]
     },
     "execution_count": 115,
     "metadata": {},
     "output_type": "execute_result"
    }
   ],
   "source": [
    "np.random.randn(3)   # distributes data based on std. normal distribution with mean=0, sd=1"
   ]
  },
  {
   "cell_type": "code",
   "execution_count": 116,
   "id": "212743dd",
   "metadata": {},
   "outputs": [
    {
     "data": {
      "text/plain": [
       "4"
      ]
     },
     "execution_count": 116,
     "metadata": {},
     "output_type": "execute_result"
    }
   ],
   "source": [
    "# Generates random integer b/w given bound.\n",
    "np.random.randint(6)"
   ]
  },
  {
   "cell_type": "code",
   "execution_count": 117,
   "id": "678292e5",
   "metadata": {},
   "outputs": [
    {
     "data": {
      "text/plain": [
       "47"
      ]
     },
     "execution_count": 117,
     "metadata": {},
     "output_type": "execute_result"
    }
   ],
   "source": [
    "np.random.randint(45,56)"
   ]
  },
  {
   "cell_type": "code",
   "execution_count": 118,
   "id": "e9b9f68a",
   "metadata": {},
   "outputs": [
    {
     "data": {
      "text/plain": [
       "array([[51, 54, 45, 50],\n",
       "       [53, 55, 50, 54],\n",
       "       [48, 46, 51, 53]])"
      ]
     },
     "execution_count": 118,
     "metadata": {},
     "output_type": "execute_result"
    }
   ],
   "source": [
    "# Genrates a 3*4 matrix with values b/w 45 to 56.\n",
    "np.random.randint(45,56,(3,4))"
   ]
  },
  {
   "cell_type": "code",
   "execution_count": 2,
   "id": "42a3cc72",
   "metadata": {},
   "outputs": [],
   "source": [
    "arr = np.random.randint(4,7,(3,4))"
   ]
  },
  {
   "cell_type": "code",
   "execution_count": 3,
   "id": "84938958",
   "metadata": {},
   "outputs": [
    {
     "data": {
      "text/plain": [
       "array([[6, 5, 4, 6],\n",
       "       [4, 4, 5, 6],\n",
       "       [5, 6, 5, 6]])"
      ]
     },
     "execution_count": 3,
     "metadata": {},
     "output_type": "execute_result"
    }
   ],
   "source": [
    "arr"
   ]
  },
  {
   "cell_type": "code",
   "execution_count": 121,
   "id": "4fb895cc",
   "metadata": {},
   "outputs": [
    {
     "data": {
      "text/plain": [
       "array([[6, 4, 5, 5, 4, 6],\n",
       "       [5, 4, 4, 5, 6, 6]])"
      ]
     },
     "execution_count": 121,
     "metadata": {},
     "output_type": "execute_result"
    }
   ],
   "source": [
    "arr.reshape(2,6)"
   ]
  },
  {
   "cell_type": "code",
   "execution_count": 122,
   "id": "fc1de4d9",
   "metadata": {},
   "outputs": [
    {
     "data": {
      "text/plain": [
       "array([[[6, 4],\n",
       "        [5, 5],\n",
       "        [4, 6]],\n",
       "\n",
       "       [[5, 4],\n",
       "        [4, 5],\n",
       "        [6, 6]]])"
      ]
     },
     "execution_count": 122,
     "metadata": {},
     "output_type": "execute_result"
    }
   ],
   "source": [
    "arr.reshape(2,3,2)"
   ]
  },
  {
   "cell_type": "code",
   "execution_count": 123,
   "id": "49d686a8",
   "metadata": {},
   "outputs": [
    {
     "data": {
      "text/plain": [
       "array([[6, 4, 5],\n",
       "       [5, 4, 6],\n",
       "       [5, 4, 4],\n",
       "       [5, 6, 6]])"
      ]
     },
     "execution_count": 123,
     "metadata": {},
     "output_type": "execute_result"
    }
   ],
   "source": [
    "arr.reshape(4, -4435345)  # it automatically assumes the remaining column dim even though you give any negative number."
   ]
  },
  {
   "cell_type": "code",
   "execution_count": 125,
   "id": "52df689a",
   "metadata": {},
   "outputs": [
    {
     "data": {
      "text/plain": [
       "array([[6, 4, 5, 5, 4, 6, 5, 4, 4, 5, 6, 6]])"
      ]
     },
     "execution_count": 125,
     "metadata": {},
     "output_type": "execute_result"
    }
   ],
   "source": [
    "arr.reshape(1, -75845)  # here it assumes column = 12."
   ]
  },
  {
   "cell_type": "code",
   "execution_count": 14,
   "id": "062036fe",
   "metadata": {},
   "outputs": [
    {
     "data": {
      "text/plain": [
       "array([[6, 5, 4, 6],\n",
       "       [4, 4, 5, 6],\n",
       "       [5, 6, 5, 6]])"
      ]
     },
     "execution_count": 14,
     "metadata": {},
     "output_type": "execute_result"
    }
   ],
   "source": [
    "arr"
   ]
  },
  {
   "cell_type": "code",
   "execution_count": 15,
   "id": "b6bf6335",
   "metadata": {},
   "outputs": [
    {
     "data": {
      "text/plain": [
       "6"
      ]
     },
     "execution_count": 15,
     "metadata": {},
     "output_type": "execute_result"
    }
   ],
   "source": [
    "arr.max()"
   ]
  },
  {
   "cell_type": "code",
   "execution_count": 16,
   "id": "661150c6",
   "metadata": {},
   "outputs": [
    {
     "data": {
      "text/plain": [
       "4"
      ]
     },
     "execution_count": 16,
     "metadata": {},
     "output_type": "execute_result"
    }
   ],
   "source": [
    "arr.min()"
   ]
  },
  {
   "cell_type": "code",
   "execution_count": 18,
   "id": "f5af396b",
   "metadata": {},
   "outputs": [
    {
     "data": {
      "text/plain": [
       "array([[139,  89,  38, 159,  45],\n",
       "       [ 56, 142,  40,  83,  77],\n",
       "       [ 70,  68, 141,  55,  18],\n",
       "       [ 80,  85,  33, 198,  11],\n",
       "       [ 24,  42, 168,  64,  29]])"
      ]
     },
     "execution_count": 18,
     "metadata": {},
     "output_type": "execute_result"
    }
   ],
   "source": [
    "arr = np.random.randint(10,200,(5,5))\n",
    "arr"
   ]
  },
  {
   "cell_type": "code",
   "execution_count": 19,
   "id": "611cf8c7",
   "metadata": {},
   "outputs": [
    {
     "data": {
      "text/plain": [
       "array([[198,  11],\n",
       "       [ 64,  29]])"
      ]
     },
     "execution_count": 19,
     "metadata": {},
     "output_type": "execute_result"
    }
   ],
   "source": [
    "# I want right hand bottom square elements 198,11,64,29.\n",
    "arr[3:,3:]"
   ]
  },
  {
   "cell_type": "code",
   "execution_count": 20,
   "id": "31a020c0",
   "metadata": {},
   "outputs": [
    {
     "data": {
      "text/plain": [
       "array([[ 89, 159],\n",
       "       [142,  83],\n",
       "       [ 68,  55],\n",
       "       [ 85, 198],\n",
       "       [ 42,  64]])"
      ]
     },
     "execution_count": 20,
     "metadata": {},
     "output_type": "execute_result"
    }
   ],
   "source": [
    "# I want 1st and 3rd columns\n",
    "arr[:,[1,3]]"
   ]
  },
  {
   "cell_type": "code",
   "execution_count": 21,
   "id": "808b45ca",
   "metadata": {},
   "outputs": [
    {
     "data": {
      "text/plain": [
       "array([139,  89, 159,  56, 142,  83,  77,  70,  68, 141,  55,  80,  85,\n",
       "       198, 168,  64])"
      ]
     },
     "execution_count": 21,
     "metadata": {},
     "output_type": "execute_result"
    }
   ],
   "source": [
    "#Filter all the data from array which is greater than 50.\n",
    "arr[arr>50]"
   ]
  },
  {
   "cell_type": "code",
   "execution_count": 22,
   "id": "75199342",
   "metadata": {},
   "outputs": [],
   "source": [
    "arr1 = np.random.randint(2,5,(3,3))\n",
    "arr2 = np.random.randint(2,5,(3,3))"
   ]
  },
  {
   "cell_type": "code",
   "execution_count": 23,
   "id": "92f29b4a",
   "metadata": {},
   "outputs": [
    {
     "data": {
      "text/plain": [
       "array([[3, 3, 4],\n",
       "       [4, 2, 4],\n",
       "       [2, 2, 3]])"
      ]
     },
     "execution_count": 23,
     "metadata": {},
     "output_type": "execute_result"
    }
   ],
   "source": [
    "arr1"
   ]
  },
  {
   "cell_type": "code",
   "execution_count": 24,
   "id": "f1a513e3",
   "metadata": {},
   "outputs": [
    {
     "data": {
      "text/plain": [
       "array([[2, 3, 3],\n",
       "       [3, 3, 4],\n",
       "       [2, 2, 4]])"
      ]
     },
     "execution_count": 24,
     "metadata": {},
     "output_type": "execute_result"
    }
   ],
   "source": [
    "arr2"
   ]
  },
  {
   "cell_type": "code",
   "execution_count": 25,
   "id": "6b2b4144",
   "metadata": {},
   "outputs": [
    {
     "data": {
      "text/plain": [
       "array([[ 6,  9, 12],\n",
       "       [12,  6, 16],\n",
       "       [ 4,  4, 12]])"
      ]
     },
     "execution_count": 25,
     "metadata": {},
     "output_type": "execute_result"
    }
   ],
   "source": [
    "# Element-wise direct multiplication not a matrix multiplication\n",
    "arr1*arr2"
   ]
  },
  {
   "cell_type": "markdown",
   "id": "bafe17c0",
   "metadata": {},
   "source": [
    "##### Matrix Multiplication"
   ]
  },
  {
   "cell_type": "markdown",
   "id": "ab212d7c",
   "metadata": {},
   "source": [
    "For matrix multiplication the no. of columns of first matrix should be equal to no. of rows of second matrix."
   ]
  },
  {
   "cell_type": "code",
   "execution_count": 26,
   "id": "85c20032",
   "metadata": {},
   "outputs": [
    {
     "data": {
      "text/plain": [
       "array([[23, 26, 37],\n",
       "       [22, 26, 36],\n",
       "       [16, 18, 26]])"
      ]
     },
     "execution_count": 26,
     "metadata": {},
     "output_type": "execute_result"
    }
   ],
   "source": [
    "arr1 @ arr2"
   ]
  },
  {
   "cell_type": "markdown",
   "id": "9bda34ad",
   "metadata": {},
   "source": [
    "#### Broadcasting"
   ]
  },
  {
   "cell_type": "code",
   "execution_count": 29,
   "id": "da9a9a3e",
   "metadata": {},
   "outputs": [
    {
     "data": {
      "text/plain": [
       "array([[0., 0., 0., 0.],\n",
       "       [0., 0., 0., 0.],\n",
       "       [0., 0., 0., 0.]])"
      ]
     },
     "execution_count": 29,
     "metadata": {},
     "output_type": "execute_result"
    }
   ],
   "source": [
    "a = np.zeros((3,4))\n",
    "a"
   ]
  },
  {
   "cell_type": "code",
   "execution_count": 30,
   "id": "9ca06edb",
   "metadata": {},
   "outputs": [
    {
     "data": {
      "text/plain": [
       "array([2, 3, 4, 7])"
      ]
     },
     "execution_count": 30,
     "metadata": {},
     "output_type": "execute_result"
    }
   ],
   "source": [
    "b = np.array([2,3,4,7])\n",
    "b"
   ]
  },
  {
   "cell_type": "code",
   "execution_count": null,
   "id": "f876786d",
   "metadata": {},
   "outputs": [],
   "source": [
    "We have inserted b row wise in a."
   ]
  },
  {
   "cell_type": "code",
   "execution_count": 31,
   "id": "ac3ecfe0",
   "metadata": {},
   "outputs": [
    {
     "data": {
      "text/plain": [
       "array([[2., 3., 4., 7.],\n",
       "       [2., 3., 4., 7.],\n",
       "       [2., 3., 4., 7.]])"
      ]
     },
     "execution_count": 31,
     "metadata": {},
     "output_type": "execute_result"
    }
   ],
   "source": [
    "a + b"
   ]
  },
  {
   "cell_type": "markdown",
   "id": "49a1f212",
   "metadata": {},
   "source": [
    "We have to perform column wise broadcasting. Then take a 1*3 matrix and take transpose. "
   ]
  },
  {
   "cell_type": "code",
   "execution_count": 32,
   "id": "fff8f503",
   "metadata": {},
   "outputs": [],
   "source": [
    "c = np.array([4,5,6])"
   ]
  },
  {
   "cell_type": "markdown",
   "id": "8756249c",
   "metadata": {},
   "source": [
    "Since, it is 1-D we cannot transpose. For doing a transpose operation we require 2-D array."
   ]
  },
  {
   "cell_type": "code",
   "execution_count": 33,
   "id": "b57f4e2c",
   "metadata": {},
   "outputs": [
    {
     "data": {
      "text/plain": [
       "array([[4., 4., 4., 4.],\n",
       "       [5., 5., 5., 5.],\n",
       "       [6., 6., 6., 6.]])"
      ]
     },
     "execution_count": 33,
     "metadata": {},
     "output_type": "execute_result"
    }
   ],
   "source": [
    "c.reshape(3,1) + a"
   ]
  },
  {
   "cell_type": "code",
   "execution_count": 34,
   "id": "7174af54",
   "metadata": {},
   "outputs": [],
   "source": [
    "arr = np.random.rand(5,4)"
   ]
  },
  {
   "cell_type": "code",
   "execution_count": 35,
   "id": "4143bcd1",
   "metadata": {},
   "outputs": [
    {
     "data": {
      "text/plain": [
       "array([[0.36518133, 0.3887994 , 0.18517263, 0.81835382],\n",
       "       [0.88549974, 0.83060276, 0.58303653, 0.74644729],\n",
       "       [0.48750362, 0.3116765 , 0.66951741, 0.35016239],\n",
       "       [0.0499149 , 0.54651596, 0.35983074, 0.84395725],\n",
       "       [0.61272093, 0.84685458, 0.18631543, 0.21174452]])"
      ]
     },
     "execution_count": 35,
     "metadata": {},
     "output_type": "execute_result"
    }
   ],
   "source": [
    "arr"
   ]
  },
  {
   "cell_type": "code",
   "execution_count": 36,
   "id": "200bea53",
   "metadata": {},
   "outputs": [
    {
     "data": {
      "text/plain": [
       "array([[0.60430235, 0.62353781, 0.43031689, 0.9046291 ],\n",
       "       [0.94100996, 0.9113741 , 0.76356829, 0.86397181],\n",
       "       [0.6982146 , 0.55827995, 0.81824043, 0.59174521],\n",
       "       [0.22341643, 0.73926717, 0.59985894, 0.91867146],\n",
       "       [0.78276492, 0.92024702, 0.43164271, 0.46015706]])"
      ]
     },
     "execution_count": 36,
     "metadata": {},
     "output_type": "execute_result"
    }
   ],
   "source": [
    "# Square-root of all elements of given array\n",
    "np.sqrt(arr)"
   ]
  },
  {
   "cell_type": "code",
   "execution_count": 37,
   "id": "940d8e71",
   "metadata": {},
   "outputs": [
    {
     "data": {
      "text/plain": [
       "array([[1.44077524, 1.47520859, 1.20342617, 2.26676525],\n",
       "       [2.42419556, 2.29470147, 1.79147004, 2.10949227],\n",
       "       [1.62824642, 1.36571281, 1.95329445, 1.41929801],\n",
       "       [1.05118164, 1.7272248 , 1.43308684, 2.32555158],\n",
       "       [1.8454459 , 2.33229925, 1.20480223, 1.23583211]])"
      ]
     },
     "execution_count": 37,
     "metadata": {},
     "output_type": "execute_result"
    }
   ],
   "source": [
    "np.exp(arr)"
   ]
  },
  {
   "cell_type": "code",
   "execution_count": 38,
   "id": "a07b9353",
   "metadata": {},
   "outputs": [
    {
     "data": {
      "text/plain": [
       "array([[-0.43749144, -0.41027442, -0.73242321, -0.08705889],\n",
       "       [-0.05281156, -0.08060663, -0.23430423, -0.12700085],\n",
       "       [-0.31202215, -0.50629595, -0.17423813, -0.4557305 ],\n",
       "       [-1.3017698 , -0.26239715, -0.44390173, -0.07367955],\n",
       "       [-0.21273729, -0.07219116, -0.72975118, -0.67418783]])"
      ]
     },
     "execution_count": 38,
     "metadata": {},
     "output_type": "execute_result"
    }
   ],
   "source": [
    "# We can find log base=2,10,e\n",
    "np.log10(arr)"
   ]
  },
  {
   "cell_type": "markdown",
   "id": "845d7268",
   "metadata": {},
   "source": [
    "##### seed()"
   ]
  },
  {
   "cell_type": "code",
   "execution_count": 41,
   "id": "7bb5cfea",
   "metadata": {},
   "outputs": [
    {
     "data": {
      "text/plain": [
       "array([[0.83484215, 0.1047961 , 0.74464048, 0.36050084, 0.35931084],\n",
       "       [0.60923838, 0.39377955, 0.40907261, 0.50990241, 0.71014799]])"
      ]
     },
     "execution_count": 41,
     "metadata": {},
     "output_type": "execute_result"
    }
   ],
   "source": [
    "# After running seed(any_number), the array we run having random numbers will get fixed & not change on subsequent executions.\n",
    "np.random.seed(44)\n",
    "np.random.rand(2,5)"
   ]
  },
  {
   "cell_type": "markdown",
   "id": "0292f6a2",
   "metadata": {},
   "source": [
    "### Merging two jupyter notebooks"
   ]
  },
  {
   "cell_type": "code",
   "execution_count": 42,
   "id": "c67ab401",
   "metadata": {
    "scrolled": true
   },
   "outputs": [
    {
     "name": "stdout",
     "output_type": "stream",
     "text": [
      "Requirement already satisfied: nbmerge in c:\\anaconda\\lib\\site-packages (0.0.4)\n"
     ]
    }
   ],
   "source": [
    "!pip install nbmerge"
   ]
  },
  {
   "cell_type": "code",
   "execution_count": 48,
   "id": "7a06ed95",
   "metadata": {},
   "outputs": [],
   "source": [
    "!nbmerge Pandas_2.ipynb pandas_new.ipynb -o pandas_3.ipynb"
   ]
  },
  {
   "cell_type": "code",
   "execution_count": null,
   "id": "234e3abe",
   "metadata": {},
   "outputs": [],
   "source": []
  }
 ],
 "metadata": {
  "kernelspec": {
   "display_name": "Python 3",
   "language": "python",
   "name": "python3"
  },
  "language_info": {
   "codemirror_mode": {
    "name": "ipython",
    "version": 3
   },
   "file_extension": ".py",
   "mimetype": "text/x-python",
   "name": "python",
   "nbconvert_exporter": "python",
   "pygments_lexer": "ipython3",
   "version": "3.8.8"
  }
 },
 "nbformat": 4,
 "nbformat_minor": 5
}
